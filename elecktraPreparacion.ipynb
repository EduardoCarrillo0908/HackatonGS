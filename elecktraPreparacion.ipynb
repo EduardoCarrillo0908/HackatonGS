{
 "cells": [
  {
   "cell_type": "code",
   "execution_count": 1,
   "metadata": {},
   "outputs": [],
   "source": [
    "import pandas as pd\n",
    "import numpy as np\n",
    "\n",
    "import matplotlib.pyplot as plt\n",
    "import matplotlib.lines as mlines\n",
    "import seaborn as sns\n",
    "\n",
    "import random \n",
    "import datetime as dt\n",
    "import re\n",
    "import pickle\n",
    "import nltk, warnings\n",
    "from nltk.tokenize import sent_tokenize, word_tokenize\n",
    "from nltk.corpus import stopwords\n",
    "from nltk.stem import WordNetLemmatizer\n",
    "from string import digits, punctuation\n",
    "\n",
    "\n",
    "from scipy.stats import chi2_contingency\n",
    "\n",
    "from sklearn.preprocessing import LabelEncoder, StandardScaler, Normalizer\n",
    "from sklearn.preprocessing import StandardScaler\n",
    "from sklearn.cluster import KMeans\n",
    "from sklearn.metrics import silhouette_samples, silhouette_score\n",
    "from sklearn import preprocessing, model_selection, metrics, feature_selection\n",
    "from sklearn.model_selection import GridSearchCV, learning_curve\n",
    "from sklearn.svm import SVC\n",
    "from sklearn.metrics import confusion_matrix\n",
    "from sklearn import neighbors, linear_model, svm, tree, ensemble\n",
    "from sklearn.decomposition import PCA, TruncatedSVD\n",
    "from sklearn.manifold import TSNE\n",
    "from sklearn.feature_extraction.text import CountVectorizer, TfidfVectorizer\n",
    "\n",
    "from wordcloud import WordCloud, STOPWORDS\n",
    "\n",
    "warnings.filterwarnings(\"ignore\")\n",
    "plt.style.use('bmh')\n",
    "%matplotlib inline"
   ]
  },
  {
   "cell_type": "code",
   "execution_count": 3,
   "metadata": {},
   "outputs": [],
   "source": [
    "data = pd.read_csv(\"data.csv\", encoding=\"ISO-8859-1\", dtype={'CustomerID': str,'InvoiceID': str})\n",
    "GS = pd.read_excel(\"products_GS.xls\", sheet_name=\"Sheet1\")"
   ]
  },
  {
   "cell_type": "code",
   "execution_count": 4,
   "metadata": {},
   "outputs": [
    {
     "data": {
      "text/plain": [
       "(541909, 8)"
      ]
     },
     "execution_count": 4,
     "metadata": {},
     "output_type": "execute_result"
    }
   ],
   "source": [
    "data.shape"
   ]
  },
  {
   "cell_type": "code",
   "execution_count": 5,
   "metadata": {},
   "outputs": [],
   "source": [
    "nan_rows = data[data.isnull().T.any().T]"
   ]
  },
  {
   "cell_type": "code",
   "execution_count": 6,
   "metadata": {},
   "outputs": [],
   "source": [
    "data = data.dropna(subset=[\"CustomerID\"])"
   ]
  },
  {
   "cell_type": "code",
   "execution_count": 7,
   "metadata": {},
   "outputs": [
    {
     "data": {
      "text/plain": [
       "(406829, 8)"
      ]
     },
     "execution_count": 7,
     "metadata": {},
     "output_type": "execute_result"
    }
   ],
   "source": [
    "data.shape"
   ]
  },
  {
   "cell_type": "code",
   "execution_count": 8,
   "metadata": {},
   "outputs": [],
   "source": [
    "data.drop_duplicates(inplace = True)"
   ]
  },
  {
   "cell_type": "code",
   "execution_count": 9,
   "metadata": {},
   "outputs": [
    {
     "data": {
      "text/plain": [
       "array(['United Kingdom', 'France', 'Australia', 'Netherlands', 'Germany',\n",
       "       'Norway', 'EIRE', 'Switzerland', 'Spain', 'Poland', 'Portugal',\n",
       "       'Italy', 'Belgium', 'Lithuania', 'Japan', 'Iceland',\n",
       "       'Channel Islands', 'Denmark', 'Cyprus', 'Sweden', 'Austria',\n",
       "       'Israel', 'Finland', 'Greece', 'Singapore', 'Lebanon',\n",
       "       'United Arab Emirates', 'Saudi Arabia', 'Czech Republic', 'Canada',\n",
       "       'Unspecified', 'Brazil', 'USA', 'European Community', 'Bahrain',\n",
       "       'Malta', 'RSA'], dtype=object)"
      ]
     },
     "execution_count": 9,
     "metadata": {},
     "output_type": "execute_result"
    }
   ],
   "source": [
    "data.Country.unique()"
   ]
  },
  {
   "cell_type": "code",
   "execution_count": 10,
   "metadata": {},
   "outputs": [],
   "source": [
    "data.loc[:, 'Country'] = data.loc[:, 'Country'].replace('United Kingdom','Aguascalientes', regex=True)\n",
    "data.loc[:, 'Country'] = data.loc[:, 'Country'].replace('France','Tijuana', regex=True)\n",
    "data.loc[:, 'Country'] = data.loc[:, 'Country'].replace('Australia','Los Cabos', regex=True)\n",
    "data.loc[:, 'Country'] = data.loc[:, 'Country'].replace('Netherlands','Campeche', regex=True)\n",
    "data.loc[:, 'Country'] = data.loc[:, 'Country'].replace('Germany','Tapachula', regex=True)\n",
    "data.loc[:, 'Country'] = data.loc[:, 'Country'].replace('Norway','Chihuahua', regex=True)\n",
    "data.loc[:, 'Country'] = data.loc[:, 'Country'].replace('EIRE','Saltillo', regex=True)\n",
    "data.loc[:, 'Country'] = data.loc[:, 'Country'].replace('Switzerland','Manzanillo', regex=True)\n",
    "data.loc[:, 'Country'] = data.loc[:, 'Country'].replace('Spain','Tlalpan', regex=True)\n",
    "data.loc[:, 'Country'] = data.loc[:, 'Country'].replace('Poland','Durango', regex=True)\n",
    "data.loc[:, 'Country'] = data.loc[:, 'Country'].replace('Portugal','Celaya', regex=True)\n",
    "data.loc[:, 'Country'] = data.loc[:, 'Country'].replace('Italy','Mexicali', regex=True)\n",
    "data.loc[:, 'Country'] = data.loc[:, 'Country'].replace('Belgium','Acapulco', regex=True)\n",
    "data.loc[:, 'Country'] = data.loc[:, 'Country'].replace('Lithuania','Tizayuca', regex=True)\n",
    "data.loc[:, 'Country'] = data.loc[:, 'Country'].replace('Japan','Guadalajara', regex=True)\n",
    "data.loc[:, 'Country'] = data.loc[:, 'Country'].replace('Iceland','Toluca', regex=True)\n",
    "data.loc[:, 'Country'] = data.loc[:, 'Country'].replace('Channel Islands','Morelia', regex=True)\n",
    "data.loc[:, 'Country'] = data.loc[:, 'Country'].replace('Denmark','Cuernavaca', regex=True)\n",
    "data.loc[:, 'Country'] = data.loc[:, 'Country'].replace('Cyprus','Tepic', regex=True)\n",
    "data.loc[:, 'Country'] = data.loc[:, 'Country'].replace('Sweden','Monterrey', regex=True)\n",
    "data.loc[:, 'Country'] = data.loc[:, 'Country'].replace('Austria','Salina Cruz', regex=True)\n",
    "data.loc[:, 'Country'] = data.loc[:, 'Country'].replace('Israel','Atlixco', regex=True)\n",
    "data.loc[:, 'Country'] = data.loc[:, 'Country'].replace('Finland','San Juan del Rio', regex=True)\n",
    "data.loc[:, 'Country'] = data.loc[:, 'Country'].replace('Greece','Queretaro', regex=True)\n",
    "data.loc[:, 'Country'] = data.loc[:, 'Country'].replace('Singapore','Chetumal', regex=True)\n",
    "data.loc[:, 'Country'] = data.loc[:, 'Country'].replace('Lebanon','Matehuala', regex=True)\n",
    "data.loc[:, 'Country'] = data.loc[:, 'Country'].replace('United Arab Emirates','Mazatlan', regex=True)\n",
    "data.loc[:, 'Country'] = data.loc[:, 'Country'].replace('Saudi Arabia','Hermosillo', regex=True)\n",
    "data.loc[:, 'Country'] = data.loc[:, 'Country'].replace('Czech Republic','Villahermosa', regex=True)\n",
    "data.loc[:, 'Country'] = data.loc[:, 'Country'].replace('Canada','Reynosa', regex=True)\n",
    "data.loc[:, 'Country'] = data.loc[:, 'Country'].replace('Unspecified','Tlaxcala', regex=True)\n",
    "data.loc[:, 'Country'] = data.loc[:, 'Country'].replace('Brazil','Xico', regex=True)\n",
    "data.loc[:, 'Country'] = data.loc[:, 'Country'].replace('USA','Xalapa', regex=True)\n",
    "data.loc[:, 'Country'] = data.loc[:, 'Country'].replace('European Community','Merida', regex=True)\n",
    "data.loc[:, 'Country'] = data.loc[:, 'Country'].replace('Bahrain','Zacatecas', regex=True)\n",
    "data.loc[:, 'Country'] = data.loc[:, 'Country'].replace('Malta','Naucalpan', regex=True)\n",
    "data.loc[:, 'Country'] = data.loc[:, 'Country'].replace('RSA','Fresnillo', regex=True)"
   ]
  },
  {
   "cell_type": "code",
   "execution_count": 11,
   "metadata": {},
   "outputs": [
    {
     "data": {
      "text/plain": [
       "37"
      ]
     },
     "execution_count": 11,
     "metadata": {},
     "output_type": "execute_result"
    }
   ],
   "source": [
    "data.Country.nunique()"
   ]
  },
  {
   "cell_type": "code",
   "execution_count": 28,
   "metadata": {},
   "outputs": [],
   "source": [
    "productos_gs=list(GS._SkuName.unique())"
   ]
  },
  {
   "cell_type": "code",
   "execution_count": 29,
   "metadata": {},
   "outputs": [],
   "source": [
    "productos_usa=(data.Description.unique())"
   ]
  },
  {
   "cell_type": "code",
   "execution_count": 30,
   "metadata": {},
   "outputs": [],
   "source": [
    "productos_usa=productos_usa[:2322]"
   ]
  },
  {
   "cell_type": "code",
   "execution_count": 31,
   "metadata": {},
   "outputs": [
    {
     "data": {
      "text/plain": [
       "2322"
      ]
     },
     "execution_count": 31,
     "metadata": {},
     "output_type": "execute_result"
    }
   ],
   "source": [
    "len(productos_usa)"
   ]
  },
  {
   "cell_type": "code",
   "execution_count": 32,
   "metadata": {},
   "outputs": [
    {
     "data": {
      "text/plain": [
       "2322"
      ]
     },
     "execution_count": 32,
     "metadata": {},
     "output_type": "execute_result"
    }
   ],
   "source": [
    "len(productos_gs)"
   ]
  },
  {
   "cell_type": "code",
   "execution_count": 35,
   "metadata": {},
   "outputs": [],
   "source": [
    "dictionary = dict(zip(productos_usa, productos_gs))"
   ]
  },
  {
   "cell_type": "code",
   "execution_count": 38,
   "metadata": {},
   "outputs": [],
   "source": [
    "data_bien=data[data['Description'].isin(productos_usa)]"
   ]
  },
  {
   "cell_type": "code",
   "execution_count": 42,
   "metadata": {},
   "outputs": [],
   "source": [
    "data_bien=data_bien.replace({\"Description\": dictionary})"
   ]
  },
  {
   "cell_type": "code",
   "execution_count": 44,
   "metadata": {},
   "outputs": [],
   "source": [
    "data_bien.rename(columns = { 'InvoiceNo': 'Factura', 'StockCode':'SKU','Description':'Descripcion','Quantity':'Cantidad','InvoiceDate':'FechaFacturacion','UnitPrice':'PrecioUnitario','CustomerID':'ClienteID','Country':'Ciudad' }, inplace=True)\n",
    "\n"
   ]
  },
  {
   "cell_type": "code",
   "execution_count": 49,
   "metadata": {},
   "outputs": [],
   "source": [
    "data_bien.to_csv(\"retailElektra.csv\",header=True, index=False) "
   ]
  },
  {
   "cell_type": "code",
   "execution_count": 50,
   "metadata": {},
   "outputs": [],
   "source": [
    "datos = pd.read_csv(\"retailElektra.csv\", encoding=\"ISO-8859-1\", dtype={'ClienteID': str,'Factura': str})"
   ]
  },
  {
   "cell_type": "code",
   "execution_count": 52,
   "metadata": {},
   "outputs": [
    {
     "data": {
      "text/plain": [
       "4346"
      ]
     },
     "execution_count": 52,
     "metadata": {},
     "output_type": "execute_result"
    }
   ],
   "source": []
  },
  {
   "cell_type": "code",
   "execution_count": null,
   "metadata": {},
   "outputs": [],
   "source": []
  }
 ],
 "metadata": {
  "kernelspec": {
   "display_name": "Python 3",
   "language": "python",
   "name": "python3"
  },
  "language_info": {
   "codemirror_mode": {
    "name": "ipython",
    "version": 3
   },
   "file_extension": ".py",
   "mimetype": "text/x-python",
   "name": "python",
   "nbconvert_exporter": "python",
   "pygments_lexer": "ipython3",
   "version": "3.7.3"
  }
 },
 "nbformat": 4,
 "nbformat_minor": 4
}
